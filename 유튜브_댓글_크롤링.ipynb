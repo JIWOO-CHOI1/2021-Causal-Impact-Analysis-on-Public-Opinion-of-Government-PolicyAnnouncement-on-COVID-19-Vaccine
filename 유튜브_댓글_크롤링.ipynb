{
  "cells": [
    {
      "cell_type": "code",
      "execution_count": null,
      "metadata": {
        "scrolled": true,
        "id": "lHbEqRm17eLn",
        "outputId": "ed11ffde-e308-4cf2-c634-01749bff900e"
      },
      "outputs": [
        {
          "name": "stdout",
          "output_type": "stream",
          "text": [
            "Collecting google-api-python-client\n",
            "  Downloading https://files.pythonhosted.org/packages/94/d8/e50532974fe37faaf7d6cecf765e25729815f17695f0c811e0f1faf7ee5f/google_api_python_client-2.15.0-py2.py3-none-any.whl (7.2MB)\n",
            "Collecting httplib2<1dev,>=0.15.0 (from google-api-python-client)\n",
            "  Downloading https://files.pythonhosted.org/packages/15/dc/d14bce03f4bfd0214b90a3f556d7c96f75bb94ad597c816a641b962f22e9/httplib2-0.19.1-py3-none-any.whl (95kB)\n",
            "Collecting google-auth-httplib2>=0.1.0 (from google-api-python-client)\n",
            "  Downloading https://files.pythonhosted.org/packages/ba/db/721e2f3f32339080153995d16e46edc3a7657251f167ddcb9327e632783b/google_auth_httplib2-0.1.0-py2.py3-none-any.whl\n",
            "Requirement already satisfied: google-auth<3.0.0dev,>=1.16.0 in c:\\users\\hyeonji\\anaconda3\\lib\\site-packages (from google-api-python-client) (1.22.1)\n",
            "Collecting uritemplate<4dev,>=3.0.0 (from google-api-python-client)\n",
            "  Downloading https://files.pythonhosted.org/packages/bf/0c/60d82c077998feb631608dca3cc1fe19ac074e772bf0c24cf409b977b815/uritemplate-3.0.1-py2.py3-none-any.whl\n",
            "Collecting google-api-core<3.0.0dev,>=1.21.0 (from google-api-python-client)\n",
            "  Downloading https://files.pythonhosted.org/packages/bd/66/2770f0ab68394711e8a299d97b268fa31fc11ba3ac22885096db14a74fcc/google_api_core-1.31.1-py2.py3-none-any.whl (93kB)\n",
            "Requirement already satisfied: pyparsing<3,>=2.4.2 in c:\\users\\hyeonji\\anaconda3\\lib\\site-packages (from httplib2<1dev,>=0.15.0->google-api-python-client) (2.4.2)\n",
            "Requirement already satisfied: six in c:\\users\\hyeonji\\anaconda3\\lib\\site-packages (from google-auth-httplib2>=0.1.0->google-api-python-client) (1.12.0)\n",
            "Requirement already satisfied: pyasn1-modules>=0.2.1 in c:\\users\\hyeonji\\anaconda3\\lib\\site-packages (from google-auth<3.0.0dev,>=1.16.0->google-api-python-client) (0.2.8)\n",
            "Requirement already satisfied: rsa<5,>=3.1.4; python_version >= \"3.5\" in c:\\users\\hyeonji\\anaconda3\\lib\\site-packages (from google-auth<3.0.0dev,>=1.16.0->google-api-python-client) (4.6)\n",
            "Requirement already satisfied: cachetools<5.0,>=2.0.0 in c:\\users\\hyeonji\\anaconda3\\lib\\site-packages (from google-auth<3.0.0dev,>=1.16.0->google-api-python-client) (4.1.1)\n",
            "Requirement already satisfied: setuptools>=40.3.0 in c:\\users\\hyeonji\\anaconda3\\lib\\site-packages (from google-auth<3.0.0dev,>=1.16.0->google-api-python-client) (41.4.0)\n",
            "Collecting googleapis-common-protos<2.0dev,>=1.6.0 (from google-api-core<3.0.0dev,>=1.21.0->google-api-python-client)\n",
            "  Downloading https://files.pythonhosted.org/packages/55/08/796a6bc0b550e2b7116041c953d3d5100016abea106131d71e5651826e7b/googleapis_common_protos-1.53.0-py2.py3-none-any.whl (198kB)\n",
            "Requirement already satisfied: requests<3.0.0dev,>=2.18.0 in c:\\users\\hyeonji\\anaconda3\\lib\\site-packages (from google-api-core<3.0.0dev,>=1.21.0->google-api-python-client) (2.22.0)\n",
            "Requirement already satisfied: packaging>=14.3 in c:\\users\\hyeonji\\anaconda3\\lib\\site-packages (from google-api-core<3.0.0dev,>=1.21.0->google-api-python-client) (19.2)\n",
            "Requirement already satisfied: protobuf>=3.12.0 in c:\\users\\hyeonji\\anaconda3\\lib\\site-packages (from google-api-core<3.0.0dev,>=1.21.0->google-api-python-client) (3.13.0)\n",
            "Requirement already satisfied: pytz in c:\\users\\hyeonji\\anaconda3\\lib\\site-packages (from google-api-core<3.0.0dev,>=1.21.0->google-api-python-client) (2019.3)\n",
            "Requirement already satisfied: pyasn1<0.5.0,>=0.4.6 in c:\\users\\hyeonji\\anaconda3\\lib\\site-packages (from pyasn1-modules>=0.2.1->google-auth<3.0.0dev,>=1.16.0->google-api-python-client) (0.4.8)\n",
            "Requirement already satisfied: certifi>=2017.4.17 in c:\\users\\hyeonji\\anaconda3\\lib\\site-packages (from requests<3.0.0dev,>=2.18.0->google-api-core<3.0.0dev,>=1.21.0->google-api-python-client) (2020.6.20)\n",
            "Requirement already satisfied: chardet<3.1.0,>=3.0.2 in c:\\users\\hyeonji\\anaconda3\\lib\\site-packages (from requests<3.0.0dev,>=2.18.0->google-api-core<3.0.0dev,>=1.21.0->google-api-python-client) (3.0.4)\n",
            "Requirement already satisfied: idna<2.9,>=2.5 in c:\\users\\hyeonji\\anaconda3\\lib\\site-packages (from requests<3.0.0dev,>=2.18.0->google-api-core<3.0.0dev,>=1.21.0->google-api-python-client) (2.8)\n",
            "Requirement already satisfied: urllib3!=1.25.0,!=1.25.1,<1.26,>=1.21.1 in c:\\users\\hyeonji\\anaconda3\\lib\\site-packages (from requests<3.0.0dev,>=2.18.0->google-api-core<3.0.0dev,>=1.21.0->google-api-python-client) (1.24.2)\n",
            "Installing collected packages: httplib2, google-auth-httplib2, uritemplate, googleapis-common-protos, google-api-core, google-api-python-client\n",
            "Successfully installed google-api-core-1.31.1 google-api-python-client-2.15.0 google-auth-httplib2-0.1.0 googleapis-common-protos-1.53.0 httplib2-0.19.1 uritemplate-3.0.1\n",
            "Note: you may need to restart the kernel to use updated packages.\n"
          ]
        },
        {
          "name": "stderr",
          "output_type": "stream",
          "text": [
            "ERROR: google-api-core 1.31.1 has requirement google-auth<2.0dev,>=1.25.0, but you'll have google-auth 1.22.1 which is incompatible.\n",
            "ERROR: google-api-core 1.31.1 has requirement six>=1.13.0, but you'll have six 1.12.0 which is incompatible.\n"
          ]
        }
      ],
      "source": [
        "pip install google-api-python-client"
      ]
    },
    {
      "cell_type": "code",
      "execution_count": null,
      "metadata": {
        "id": "MW5vmNYF7eLv"
      },
      "outputs": [],
      "source": [
        "import pandas as pd\n",
        "from googleapiclient.discovery import build"
      ]
    },
    {
      "cell_type": "code",
      "execution_count": null,
      "metadata": {
        "id": "DMrN6Y687eLz"
      },
      "outputs": [],
      "source": [
        "api_key = '발급 받은 API 키' #api_key = '발급 받은 API 키'\n",
        "video_id = '6eLKYgKV9Uw'  #video_id = '추출하고자 하는 동영상의 id'\n",
        "\n",
        "comments = list()\n",
        "api_obj = build('youtube', 'v3', developerKey=api_key)\n",
        "response = api_obj.commentThreads().list(part='snippet,replies', videoId=video_id, maxResults=100).execute()\n",
        "\n",
        "while response:\n",
        "    for item in response['items']:\n",
        "        comment = item['snippet']['topLevelComment']['snippet']\n",
        "        comments.append([comment['textDisplay'], comment['authorDisplayName'], comment['publishedAt'], comment['likeCount']])\n",
        "\n",
        "        if item['snippet']['totalReplyCount'] > 0:\n",
        "            for reply_item in item['replies']['comments']:\n",
        "                reply = reply_item['snippet']\n",
        "                comments.append([reply['textDisplay'], reply['authorDisplayName'], reply['publishedAt'], reply['likeCount']])\n",
        "\n",
        "    if 'nextPageToken' in response:\n",
        "        response = api_obj.commentThreads().list(part='snippet,replies', videoId=video_id, pageToken=response['nextPageToken'], maxResults=100).execute()\n",
        "    else:\n",
        "        break\n",
        "\n",
        "df = pd.DataFrame(comments, columns =['comment', 'author', 'date', 'num_likes'])\n",
        "df.to_excel('results2.xlsx', index= False)"
      ]
    },
    {
      "cell_type": "code",
      "execution_count": null,
      "metadata": {
        "scrolled": true,
        "id": "dpcbKt_47eL2",
        "outputId": "8d45507c-1725-4004-8df0-3d6770a8b1b8"
      },
      "outputs": [
        {
          "name": "stdout",
          "output_type": "stream",
          "text": [
            "[['다음 변이는 델타 노트 플러스 인가 ??', '민트만세', '2021-08-03T06:33:54Z', 0], ['다른나라는 백신 2차접종 어느정도 이뤄진 상태서 델타플러스 발생인데<br>우리는 이제 1차30% 조금 넘은 상황에서 나왔으니 ㅉㅉ<br>언제까지 호소만 하고 있을건데?<br>언제까지 이동자제만 부탁할건데?<br>k방역 자랑하시지 왜?<br>ㅉㅉ', '유히어로', '2021-08-03T06:33:43Z', 0], ['ㅅㅅㅅㅅㅅ<br>널리 널리 퍼져라', 'R', '2021-08-03T06:33:17Z', 1], ['델타플러스는 또 뭐꼬 ㅡㅡ', 'h.', '2021-08-03T06:32:19Z', 0], ['재...택..!', '리온', '2021-08-03T06:31:43Z', 0], ['뭐가 무섭다고 휴가를 집에서 즐겨? 답답하다 나봐라 지금 바다 보면서 댓글 달고 있다<br>너희는 영원이 집구석 방콕이야 ~~회사는 어떻게 출근한데 ㅋㅋㅋ 마트는 어떻게 가고 ㅋㅋㅋ 무적건 배달~방콕?<br>회사일은 재택근무? 공돌이들은 그럼 어떻게해 ㅋㅋㅋㅋ 무서워하지마 즐기라고 휴가를 즐기면서 거리유지하고 사람 모이는곳 최대한 피하고<br>마스크 잘쓰면 된다 휴가가별거냐 ㅋㅋㅋ 다음주에는 제주도 비행기 타고 한바뀌 돌고 와야겠다.', 'ILOVE나 KSK', '2021-08-03T06:31:31Z', 0], ['국민탓 오지네 ㅋㅋㅋㅋㅋ탓하는건 좌파의 특징임? ㅋㅋㅋ 사과도 절대 안함 ㅋㅋㅋ', '대한민국가즈아', '2021-08-03T06:23:38Z', 1], ['알겠으니깐 방학 끝나면 온클로 돌리면 안됨??<br>집에서 공부나 하게', '유승우', '2021-08-03T06:23:07Z', 0], ['피서 가는 건 이해해. 근데 마스크는 좀 쳐 쓰고가라...', '치킨', '2021-08-03T06:22:17Z', 0], ['여기 가지말라고하면 저기 모이고<br>저기 가지말라고하면 딴곳 모이고<br>다 코로나 걸려 죽어라<br>누군 안가고싶어서 집에있나<br>방역 지키는사람 따로<br>할꺼 다 즐기면서 옴기는사람 따로', 'YO LO', '2021-08-03T06:21:11Z', 0], ['ㅋㅋㅋㅋㅋㅋㅋㅋㅋ 그저 웃지요', 'saintpaul', '2021-08-03T06:20:50Z', 0], ['1차가    끝이가  2차까지가야  백신 접종 아닌가<br>말장난치나', '문어의꿈', '2021-08-03T06:14:44Z', 0], ['그렇게 휴가지가 무서우면....<br>호텔이나 숙박업 2주간 강제휴무 시키고 <br>버스나 지하철도 다 강제 중지시키고 전국민 2주간 통행금지 시켜라.<br>전국민 지원금 폐지하고 남는돈 보상해 주고', '풍화리통영호선외기불매위원회', '2021-08-03T06:13:08Z', 2], ['텔타 프로랑 델타 프로 맥스는 언제나오나요', 'sunflower', '2021-08-03T06:12:29Z', 0], ['항상 계속 매번 궁금한건 지하철에서 확진자 없다는거 아무리 마스크 썼다지만 확진자들이 전부 자차타고 출퇴근 한건 아닐텐데', '할땐하자', '2021-08-03T06:09:56Z', 0], ['지하철은 너무 광범위해서 집계 못하지 않을까용? 버스는 가끔 보였는데 지하철은 못 본 거 같긴 하네요🤔', 'Jane Kim', '2021-08-03T06:17:01Z', 0], ['근데 발표하시는 장관님은 정작 마스크 안쓴다는 거 ㅎㅎ', '두치와뿌구', '2021-08-03T06:09:16Z', 0], ['또 5단계하면되긋네 ㅋ', '조로', '2021-08-03T06:05:59Z', 0], ['델타가 무섭지 않다. 이러다가<br>치사율이 높아지는쪽으로 변이 할까봐<br>그게 ㅈㄴ게 무섭다...', '그니', '2021-08-03T06:05:56Z', 2], ['그냥 다 죽냐?  정치 방역 그만해라 조가튼정부야', '홍어는 정말 싫어', '2021-08-03T06:03:40Z', 0], ['그냥 이달 말까지 전국민 휴가 하자 ㅋㅋㅋㅋㅋㅋㅋ 뭐하러 연장조치 어쩌고 하냐 깔끔하게 이달말까지 전국민 통행금지 휴가 하고 이 시기에 백신을 훔쳐오든 만들어내든 해서 다 접종시켜줘', '운동', '2021-08-03T06:03:37Z', 2], ['울트라까지 가자 !!', '노재현', '2021-08-03T06:00:56Z', 0], ['델타플러스울트라 시리즈는 언제출시하나요?', '강후리', '2021-08-03T06:00:45Z', 0], ['답없다고 ㅋㅋㅋ', '급식이미래다', '2021-08-03T06:00:00Z', 0], ['공영방송사 수준ㅋㅋ 그래서 델타 플러스 변이 감염된 사람 어떻게 됐는데? 아직 델타 플러스 변이에 대한 연구는 진행중이여서 더 위험한지 그렇지 않은지 알려진게 없는데 썸네일부터 기사까지 델타 플러스 변이가 더 위험한 것처럼 말하고 있네? 그냥 델타 플러스가 검출됐다고 해라 더 위험하다느니 어쩌니 확실하지도 않은거 가지고 난리치지 말고ㅡㅡ', 'Jo공포', '2021-08-03T05:59:51Z', 0], ['다음번에는 코로나 델타 플러스 마이크로 리뉴얼 SW KOR-007ILOVESNSD 변이 바이러스 예상 합니다', '김태근', '2021-08-03T05:59:44Z', 0], ['이러다 델타 노트 시리즈도 나올 기세네', '김현식', '2021-08-03T05:58:04Z', 0], ['그 놈에 마지매기회 지겹다 지겨워', '까치고개', '2021-08-03T05:57:20Z', 0], ['델타? 조만간 감마 또 세타 오메가 끝이없겠지', '멋쟁이', '2021-08-03T05:56:34Z', 0], ['알파 브라보 찰리는 어디갔니?', 'sj Jung', '2021-08-03T05:55:45Z', 0], ['델타때도 밑밥만 깔더니<br>델타 플러스도 밑밥을 까네<br>선제방역조치를 할수는 없는건가...', '노스트라다빈치', '2021-08-03T05:54:14Z', 1], ['문재인 이 xxxx', '행복', '2021-08-03T05:49:10Z', 0], ['ㅋㅋ 델타 변이 나왔을때 내가 팩퍼 델타플러스 나온다고 댓글 달았는데 ㅋ 진짜 나오네 ㅋㅋㅋ', '십아재', '2021-08-03T05:47:55Z', 1], ['주사 맞으면 뭐하나, 델타변이 플러스에 걸리면 말짱 꽝인데.', '권창 강', '2021-08-03T05:46:17Z', 0], ['휴가철 이동 자제 금지', '이세희', '2021-08-03T05:45:09Z', 1], ['시난주 변이는 안나오냐?', 'Narand', '2021-08-03T05:40:13Z', 0], ['이건머 핸드폰 새기종나오는것보다 빠르네', '페더라고', '2021-08-03T05:36:33Z', 0], ['델타플러스는 또뭐지ㄷㄷ', '대장 반코츠', '2021-08-03T05:36:04Z', 0], ['알파오메가도 만들지 그라냨 ㅋㅋㅋ<br><br>계속해서 방역수칙을 어기는 사람들에게 솜방망이 급 패널티 밖에 안주는데 <br>누가 지키려고하겠냐 ㅋㅋㅋ<br><br>축구하는데 손들고 상대방 골에 골넣는데 <br>이건 무효입니다 정도의 패널티만 준다고 쳐봐 그럼 계속그러겠지 ㅋㅋㅋ', '임둘기', '2021-08-03T05:35:52Z', 0], ['사망률이 낮은게 오히려 독이된거지 걸려도 잘안죽으니', '민집사', '2021-08-03T05:35:23Z', 4], ['<a href=\"https://www.youtube.com/watch?v=6eLKYgKV9Uw&amp;t=1m08s\">1:08</a> 맨날 이번 주가 마지막이라고 하네. 맨날 마지막, 고비. 떨이 장사하냐?', '발빠진주희', '2021-08-03T05:31:59Z', 0], ['곧 델타곱하기 델타제곱 다 튀어 나오겟네', '김기뉴', '2021-08-03T05:30:46Z', 0], ['다음은 한우 투 +++  슈퍼 변이 나온다 각오해라', '500억주식마미손TV', '2021-08-03T05:30:36Z', 2], ['아ㅅ ㅂ... 뭐지? 회사와 집콕만 하는데 편도가 약간 아프고 몸이 살짝 쑤신다 몸쑤신건 어제 홈트를 빡세게 해서 그렇겠지 목 아픈건 밤새 에어컨 틀어 놓고 이불 안 덮고 자서 그런거겠지', '미희아혜연', '2021-08-03T05:29:42Z', 0], ['돌파감염 나온 상황에 ㅋㅋ', 'Next Legend', '2021-08-03T05:28:47Z', 0], ['델타변이 Z+', '이강욱', '2021-08-03T05:28:32Z', 0], ['치료제개발은 어떻게 진행되고잇는지는 감감무소식이네여? 변이까지 잡아낼수잇는 치료제 완성단계라고 작년에 방송된거 같은데여?', '고종배', '2021-08-03T05:27:24Z', 1], ['휴.....코로나..ㅠ<br>플러스까지...', '유온셔리', '2021-08-03T05:26:28Z', 0], ['모더나 예약했는데<br>맞을때 되니까 화이자맞으라하네 없다고<br>충분하다고 입털때는 언제고', '비공개', '2021-08-03T05:15:01Z', 1], ['자랑스럽다 K방역ㅋㅋㅋㅋㅋ 그나저나 놀러갈때 민주노총 조끼 입고 가야되나?? 그건 무적이어서 감염 안된다던데ㅋㅋ', 'PEO PRO', '2021-08-03T05:10:22Z', 6], ['델타 플러스곱빼기짬뽕오징어너구리 다 나오겠지 ㅋㅋㅋㅋ<br>이제 그만합시다 지겹다 정말<br>매년 죽는 인구 코로나 이전 이후 아무변화 없음', 'KYUJIN HWANG', '2021-08-03T05:07:27Z', 1], ['그만 좀 감염당하라고 그지깽깽이들아 방역 잘지키면 감염도 없어', '박현기', '2021-08-03T05:02:41Z', 0], ['지겹다 지겨워', '농부의집행삽', '2021-08-03T05:02:33Z', 0], ['휴양지 가지 말라고 하는데 가는 분들이 옳은걸까? 나처럼 미련하게 집콕하는게 옳은걸까.', 'WATER 1L MINERAL', '2021-08-03T05:01:05Z', 25], ['이제 옳은건 없는거 같아요... 각자 생각하기 나름일뿐', '77 J', '2021-08-03T05:59:21Z', 1], ['사람 없는곳 자차 여행&gt; 집콕&gt; 휴양지 순 아닐까요?', 'TS', '2021-08-03T05:53:42Z', 1], ['뭐가 옳고 아닌지 솔직히 모르겠음. 그렇게치면 지하철 버스 콩나물되서 타는건 최고로 위험한게 아닌가?', 'jwleee', '2021-08-03T05:45:23Z', 5], ['델타 플러스,...델타플러스 알파...델타플러스 알파 오메가......지친다 고마 해라 코로나야...', 'Lee황금의청춘', '2021-08-03T04:59:18Z', 6], ['작년 여름에도 이러진 않았잖아? 올 가을 겨울에 무슨 일이 일어나려고 그러지?', 'Rosicrucianism', '2021-08-03T04:58:17Z', 1], ['가을 겨울이더 걱정이네요', '대장 반코츠', '2021-08-03T05:36:38Z', 0], ['앞으로 k방역k방역 지꺼리지마라 아가리 찢어버리기전에', '글로벌브랜드', '2021-08-03T04:54:35Z', 0], ['무슨...한우 등급도 아니고 플러스는 또 뭐여...ㅠㅠ 담엔 델타 투플임(델타 ++)??', '푸른구름', '2021-08-03T04:51:57Z', 6], ['멍청한 정부야 거리두기 놀음 그만하고  2달이나 3달 강력하게 틀어 메고 해외 입국자 관리 철저하게 하라고 !!!!! 대구 신천지때 부터 외쳐 왔는데 ..그넘에 쇼하느라 이제 플러스 까지 들어왔네 ㅁ  ㅊ ㅡ.ㅡ', 'sebastian cho', '2021-08-03T04:50:31Z', 1], ['델타플러스가 무서운게 아니구요.. 또 세로운 바이러스 또 나올까봐 걱정입니다... 나올것 같아서.', '땡땡이', '2021-08-03T04:50:13Z', 8], ['k방역 든든합니다', '롱롱', '2021-08-03T04:42:34Z', 2], ['코로나 걸려도 죽지도 않는데 다들 걱정말고 나가세요 집에있다간 우리가 죽습니다', 'OSCWJT', '2021-08-03T04:39:17Z', 0], ['코로나 땜에 전세계적으로 사망자수가 백만이 넘을건데 뭔 개소리 하고 자빠졌냐?', 'sebastian cho', '2021-08-03T04:55:25Z', 3], ['또 시작이냐 코로나델타ㅋ 백신맞은 사람은 그냥 감기에 불과한수준인데 뭘 위험하다고 자꾸 조장하고 있냐', 'k s', '2021-08-03T04:33:19Z', 1], ['아직 검증되지도 않았는데 감기로 비유하내', '김영훈', '2021-08-03T04:47:33Z', 0], ['백신 2차까지 맞았는데  죽지않을만큼 아팠대요<br>오한이 미칠듯이  밀려온대요', '레이첼', '2021-08-03T04:46:46Z', 0], ['델타 플러스 맥스 프로까지 나올 기세입니다. 😑', 'German Music', '2021-08-03T04:23:46Z', 12], ['@뽀록킹 델타 플러스 맥스 프로 골드 SE', 'BONO BONO', '2021-08-03T06:02:11Z', 1], ['델타 플러스 맥스 프로 골드', '뽀록킹', '2021-08-03T05:41:58Z', 2], ['조만간 1+1 바이러스도 나올듯....', '정청', '2021-08-03T04:22:23Z', 1], ['작년 올해 내년 후년 내후년 별로 달라진게 없을 것 같다.  그 이유는 전체 인구 15% -25% 정도의 백신접종 거부자가 있고 집단면역도 개소리에 불과한데 새로운 변이는 계속 생기고 돌파 감염자도 증가하고 있다.   예상하지 못한 슈퍼 바이러스가 나올지 아무도 모른다.  외국은 세번째 부스터 샷이 나오는데 한국은 1차도 아직 갈길 멀고  외국 제약회사는 new 백신 만들고 있는데 한국은 old 버전 백신을 수급받는 중이고 수많은 의료인력이 pcr 한다고 콧구멍 쑤씨는데 투입되고 중증환자 늘어 번아웃 온다고 하소연 한다.   정부가 국내 대기업 바이오 연합체를 만들어 예산집중 투자해서 직접 백신과 치료제를 만들어 국내수급과 수출까지 하지 않는 이상  백신 허브는 빛좋은 개살구고 개소리에 불과하다.     허구언날 4단계 해봤자 효과없고 5단계 24시간  통행금지 해봤자 별 의미없고 자영업자만 몰살당하고 꼬딱지만한 지원금 줘봤자 빚만 늘어 마이너스다.', '가나안교회', '2021-08-03T04:20:25Z', 5], ['이제 바이러스가 ㅋㅋ 삼성폰 이름들같다 ㅋㅋ', 'One Ha', '2021-08-03T04:19:50Z', 6], ['우이우이 !! 문노스를 믿자구!!', '소대장', '2021-08-03T04:07:56Z', 0], ['거리두기놀이 K방역이 있는데 다들 뭘 걱정임ㅋ', '우치하상타치', '2021-08-03T04:04:58Z', 3], ['마스크 쓰고,거리두기 지켜 주세요.😷😷😷😷😷😷😷', '김순영', '2021-08-03T04:01:29Z', 7], ['니들 방역은 망했다', '피닉스', '2021-08-03T03:58:08Z', 4], ['당연한것을.....지구어디선가 한명이라도 나오면 우리나라에 한두달안에 들어오는거지...글로벌한세상 어쩔수없으니 대응잘해주실', '정기철', '2021-08-03T03:57:27Z', 15], ['진짜 코로나 작작 이용해라', 'jaybee L', '2021-08-03T03:48:34Z', 3], ['해외 입출국 금지 시키시오', 'dh J', '2021-08-03T03:47:02Z', 3], ['또 언론들 국민들 겁준다 미국은 백신맞아도 다걸리는데 멀 또 선동질하냐  정치방역 작작해라', '자유수호', '2021-08-03T03:45:25Z', 7], ['ㅈㄹ도 병이다', '이다롱', '2021-08-03T04:02:37Z', 3], ['한국도 생지옥 될것이다', '저승사자', '2021-08-03T03:43:18Z', 3]]\n"
          ]
        }
      ],
      "source": [
        "print(comments)"
      ]
    },
    {
      "cell_type": "code",
      "execution_count": null,
      "metadata": {
        "id": "RAV08XSP7eL3",
        "outputId": "9a2ee7ba-f6ed-4837-de05-3dca2c14e7c5"
      },
      "outputs": [
        {
          "data": {
            "text/html": [
              "<div>\n",
              "<style scoped>\n",
              "    .dataframe tbody tr th:only-of-type {\n",
              "        vertical-align: middle;\n",
              "    }\n",
              "\n",
              "    .dataframe tbody tr th {\n",
              "        vertical-align: top;\n",
              "    }\n",
              "\n",
              "    .dataframe thead th {\n",
              "        text-align: right;\n",
              "    }\n",
              "</style>\n",
              "<table border=\"1\" class=\"dataframe\">\n",
              "  <thead>\n",
              "    <tr style=\"text-align: right;\">\n",
              "      <th></th>\n",
              "      <th>comment</th>\n",
              "      <th>author</th>\n",
              "      <th>date</th>\n",
              "      <th>num_likes</th>\n",
              "    </tr>\n",
              "  </thead>\n",
              "  <tbody>\n",
              "    <tr>\n",
              "      <td>0</td>\n",
              "      <td>다음 변이는 델타 노트 플러스 인가 ??</td>\n",
              "      <td>민트만세</td>\n",
              "      <td>2021-08-03T06:33:54Z</td>\n",
              "      <td>0</td>\n",
              "    </tr>\n",
              "    <tr>\n",
              "      <td>1</td>\n",
              "      <td>다른나라는 백신 2차접종 어느정도 이뤄진 상태서 델타플러스 발생인데&lt;br&gt;우리는 이...</td>\n",
              "      <td>유히어로</td>\n",
              "      <td>2021-08-03T06:33:43Z</td>\n",
              "      <td>0</td>\n",
              "    </tr>\n",
              "    <tr>\n",
              "      <td>2</td>\n",
              "      <td>ㅅㅅㅅㅅㅅ&lt;br&gt;널리 널리 퍼져라</td>\n",
              "      <td>R</td>\n",
              "      <td>2021-08-03T06:33:17Z</td>\n",
              "      <td>1</td>\n",
              "    </tr>\n",
              "    <tr>\n",
              "      <td>3</td>\n",
              "      <td>델타플러스는 또 뭐꼬 ㅡㅡ</td>\n",
              "      <td>h.</td>\n",
              "      <td>2021-08-03T06:32:19Z</td>\n",
              "      <td>0</td>\n",
              "    </tr>\n",
              "    <tr>\n",
              "      <td>4</td>\n",
              "      <td>재...택..!</td>\n",
              "      <td>리온</td>\n",
              "      <td>2021-08-03T06:31:43Z</td>\n",
              "      <td>0</td>\n",
              "    </tr>\n",
              "    <tr>\n",
              "      <td>...</td>\n",
              "      <td>...</td>\n",
              "      <td>...</td>\n",
              "      <td>...</td>\n",
              "      <td>...</td>\n",
              "    </tr>\n",
              "    <tr>\n",
              "      <td>81</td>\n",
              "      <td>진짜 코로나 작작 이용해라</td>\n",
              "      <td>jaybee L</td>\n",
              "      <td>2021-08-03T03:48:34Z</td>\n",
              "      <td>3</td>\n",
              "    </tr>\n",
              "    <tr>\n",
              "      <td>82</td>\n",
              "      <td>해외 입출국 금지 시키시오</td>\n",
              "      <td>dh J</td>\n",
              "      <td>2021-08-03T03:47:02Z</td>\n",
              "      <td>3</td>\n",
              "    </tr>\n",
              "    <tr>\n",
              "      <td>83</td>\n",
              "      <td>또 언론들 국민들 겁준다 미국은 백신맞아도 다걸리는데 멀 또 선동질하냐  정치방역 ...</td>\n",
              "      <td>자유수호</td>\n",
              "      <td>2021-08-03T03:45:25Z</td>\n",
              "      <td>7</td>\n",
              "    </tr>\n",
              "    <tr>\n",
              "      <td>84</td>\n",
              "      <td>ㅈㄹ도 병이다</td>\n",
              "      <td>이다롱</td>\n",
              "      <td>2021-08-03T04:02:37Z</td>\n",
              "      <td>3</td>\n",
              "    </tr>\n",
              "    <tr>\n",
              "      <td>85</td>\n",
              "      <td>한국도 생지옥 될것이다</td>\n",
              "      <td>저승사자</td>\n",
              "      <td>2021-08-03T03:43:18Z</td>\n",
              "      <td>3</td>\n",
              "    </tr>\n",
              "  </tbody>\n",
              "</table>\n",
              "<p>86 rows × 4 columns</p>\n",
              "</div>"
            ],
            "text/plain": [
              "                                              comment    author  \\\n",
              "0                              다음 변이는 델타 노트 플러스 인가 ??      민트만세   \n",
              "1   다른나라는 백신 2차접종 어느정도 이뤄진 상태서 델타플러스 발생인데<br>우리는 이...      유히어로   \n",
              "2                                  ㅅㅅㅅㅅㅅ<br>널리 널리 퍼져라         R   \n",
              "3                                      델타플러스는 또 뭐꼬 ㅡㅡ        h.   \n",
              "4                                            재...택..!        리온   \n",
              "..                                                ...       ...   \n",
              "81                                     진짜 코로나 작작 이용해라  jaybee L   \n",
              "82                                     해외 입출국 금지 시키시오      dh J   \n",
              "83  또 언론들 국민들 겁준다 미국은 백신맞아도 다걸리는데 멀 또 선동질하냐  정치방역 ...      자유수호   \n",
              "84                                            ㅈㄹ도 병이다       이다롱   \n",
              "85                                       한국도 생지옥 될것이다      저승사자   \n",
              "\n",
              "                    date  num_likes  \n",
              "0   2021-08-03T06:33:54Z          0  \n",
              "1   2021-08-03T06:33:43Z          0  \n",
              "2   2021-08-03T06:33:17Z          1  \n",
              "3   2021-08-03T06:32:19Z          0  \n",
              "4   2021-08-03T06:31:43Z          0  \n",
              "..                   ...        ...  \n",
              "81  2021-08-03T03:48:34Z          3  \n",
              "82  2021-08-03T03:47:02Z          3  \n",
              "83  2021-08-03T03:45:25Z          7  \n",
              "84  2021-08-03T04:02:37Z          3  \n",
              "85  2021-08-03T03:43:18Z          3  \n",
              "\n",
              "[86 rows x 4 columns]"
            ]
          },
          "execution_count": 20,
          "metadata": {},
          "output_type": "execute_result"
        }
      ],
      "source": [
        "df"
      ]
    },
    {
      "cell_type": "code",
      "execution_count": null,
      "metadata": {
        "id": "Ea68anMj7eL5"
      },
      "outputs": [],
      "source": [
        "df.to_excel('results2.xlsx', index= False)"
      ]
    }
  ],
  "metadata": {
    "kernelspec": {
      "display_name": "Python 3",
      "language": "python",
      "name": "python3"
    },
    "language_info": {
      "codemirror_mode": {
        "name": "ipython",
        "version": 3
      },
      "file_extension": ".py",
      "mimetype": "text/x-python",
      "name": "python",
      "nbconvert_exporter": "python",
      "pygments_lexer": "ipython3",
      "version": "3.7.4"
    },
    "colab": {
      "provenance": []
    }
  },
  "nbformat": 4,
  "nbformat_minor": 0
}